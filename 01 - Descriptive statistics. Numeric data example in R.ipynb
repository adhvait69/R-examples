{
 "cells": [
  {
   "cell_type": "markdown",
   "metadata": {},
   "source": [
    "# Descriptive statistics in R. Example\n",
    "## Numeric data example\n",
    "**Task 1.** Data of blood *Glucose level* and *body weight* are given as a table below.\n",
    "1. Calculate the mean, median and mode.\n",
    "2. Estimate dispersion of the samples (calculate range and standard deviation). Calculate standard error.\n",
    "3. Check if the samples follow a normal distribution.\n",
    "4. Calculate confidence intervals for the sample means and interpret results. \n",
    "\n",
    "Glucose level|Body weight\n",
    "-|-\n",
    "4|70\n",
    "6|72\n",
    "6|90\n",
    "2|80\n",
    "2|102\n",
    "4|92\n",
    "5|94\n",
    "4|81\n",
    "4|78\n",
    "6|84\n",
    "6|100\n",
    "7|90\n",
    "7|93\n",
    "3|83\n",
    "3|81\n",
    "3|72\n",
    "3|69\n",
    "2|72\n",
    "2|68\n",
    "2|120\n",
    "4|108\n",
    "3|97\n",
    "3|82\n",
    "2|93\n",
    "\n",
    "### 1.\tDefine the type of the variables\n",
    "Because the variables have infinite values spectra then they’re the numeric type.\n",
    "\n",
    "### 2.\tPrepare the data to get into R. Watch the video how to import data in Google Sheet - https://youtu.be/sy-j-sqd0t8\n",
    "After the data has been successfully imported use commands as shown below:"
   ]
  },
  {
   "cell_type": "code",
   "execution_count": 1,
   "metadata": {},
   "outputs": [],
   "source": [
    "Input = (\"Glucose level\tBody weight\n",
    "4\t70\n",
    "6\t72\n",
    "6\t90\n",
    "2\t80\n",
    "2\t102\n",
    "4\t92\n",
    "5\t94\n",
    "4\t81\n",
    "4\t78\n",
    "6\t84\n",
    "6\t100\n",
    "7\t90\n",
    "7\t93\n",
    "3\t83\n",
    "3\t81\n",
    "3\t72\n",
    "3\t69\n",
    "2\t72\n",
    "2\t68\n",
    "2\t120\n",
    "4\t108\n",
    "3\t97\n",
    "3\t82\n",
    "2\t93\")\n",
    "DF = as.data.frame(read.table(textConnection(Input), header = TRUE, sep = \"\\t\"))"
   ]
  },
  {
   "cell_type": "markdown",
   "metadata": {},
   "source": [
    "This will allow you to work with data from the single variable of type data.frame. To access specific variable in the data.frame use the `$` sign. For example, to get the *Glucose level* one have to use `DF$Glucose.level`\n",
    "\n",
    "Alternatively, one can construct data frame from the column vectors by using commands:\n",
    "\n",
    "`glucose_lvl <- c(4,6,6,2,2,4,5,4,4,6,6,7,7,3,3,3,3,2,2,2,4,3,3,2)`\n",
    "\n",
    "`body_weight <- c(70,72,90,80,102,92,94,81,78,84,100,90,93,83,81,72,69,72,68,120,108,97,82,93)`\n",
    "\n",
    "`DF = data.frame(Glucose.lvl = glucose_lvl, Body.weight = body_weight)`"
   ]
  },
  {
   "cell_type": "markdown",
   "metadata": {},
   "source": [
    "### 2.\tCalculate mean, median, mode\n",
    "To get the *mean* one has to use command `mean`\n"
   ]
  },
  {
   "cell_type": "code",
   "execution_count": 2,
   "metadata": {},
   "outputs": [
    {
     "data": {
      "text/html": [
       "3.875"
      ],
      "text/latex": [
       "3.875"
      ],
      "text/markdown": [
       "3.875"
      ],
      "text/plain": [
       "[1] 3.875"
      ]
     },
     "metadata": {},
     "output_type": "display_data"
    }
   ],
   "source": [
    "mean(DF$Glucose.level)"
   ]
  },
  {
   "cell_type": "code",
   "execution_count": 3,
   "metadata": {},
   "outputs": [
    {
     "data": {
      "text/html": [
       "86.2916666666667"
      ],
      "text/latex": [
       "86.2916666666667"
      ],
      "text/markdown": [
       "86.2916666666667"
      ],
      "text/plain": [
       "[1] 86.29167"
      ]
     },
     "metadata": {},
     "output_type": "display_data"
    }
   ],
   "source": [
    "mean(DF$Body.weight)"
   ]
  },
  {
   "cell_type": "markdown",
   "metadata": {},
   "source": [
    "*Median* can be calculated by use of command `median`"
   ]
  },
  {
   "cell_type": "code",
   "execution_count": 4,
   "metadata": {},
   "outputs": [
    {
     "data": {
      "text/html": [
       "3.5"
      ],
      "text/latex": [
       "3.5"
      ],
      "text/markdown": [
       "3.5"
      ],
      "text/plain": [
       "[1] 3.5"
      ]
     },
     "metadata": {},
     "output_type": "display_data"
    }
   ],
   "source": [
    "median(DF$Glucose.level)"
   ]
  },
  {
   "cell_type": "code",
   "execution_count": 5,
   "metadata": {},
   "outputs": [
    {
     "data": {
      "text/html": [
       "83.5"
      ],
      "text/latex": [
       "83.5"
      ],
      "text/markdown": [
       "83.5"
      ],
      "text/plain": [
       "[1] 83.5"
      ]
     },
     "metadata": {},
     "output_type": "display_data"
    }
   ],
   "source": [
    "median(DF$Body.weight)"
   ]
  },
  {
   "cell_type": "markdown",
   "metadata": {},
   "source": [
    "*Mode* can be obtained in two ways: \n",
    "- through the `table` command\n",
    "- via the use of `Mode` command from the `DescTools` library"
   ]
  },
  {
   "cell_type": "code",
   "execution_count": 6,
   "metadata": {},
   "outputs": [
    {
     "data": {
      "text/plain": [
       "\n",
       "2 3 4 5 6 7 \n",
       "6 6 5 1 4 2 "
      ]
     },
     "metadata": {},
     "output_type": "display_data"
    }
   ],
   "source": [
    "table(DF$Glucose.level)"
   ]
  },
  {
   "cell_type": "markdown",
   "metadata": {},
   "source": [
    "As one can see there are two values that has the max frequency of 6 which means variable *Glucose level* has 2 modes: 2, 3."
   ]
  },
  {
   "cell_type": "code",
   "execution_count": 7,
   "metadata": {},
   "outputs": [
    {
     "name": "stderr",
     "output_type": "stream",
     "text": [
      "Warning message:\n",
      "\"package 'DescTools' was built under R version 3.6.3\""
     ]
    }
   ],
   "source": [
    "library(DescTools)\t# This command can be executed only once to get the needed functions"
   ]
  },
  {
   "cell_type": "code",
   "execution_count": 8,
   "metadata": {},
   "outputs": [
    {
     "data": {
      "text/html": [
       "<ol class=list-inline>\n",
       "\t<li>2</li>\n",
       "\t<li>3</li>\n",
       "</ol>\n"
      ],
      "text/latex": [
       "\\begin{enumerate*}\n",
       "\\item 2\n",
       "\\item 3\n",
       "\\end{enumerate*}\n"
      ],
      "text/markdown": [
       "1. 2\n",
       "2. 3\n",
       "\n",
       "\n"
      ],
      "text/plain": [
       "[1] 2 3\n",
       "attr(,\"freq\")\n",
       "[1] 6"
      ]
     },
     "metadata": {},
     "output_type": "display_data"
    }
   ],
   "source": [
    "Mode(DF$Glucose.level)"
   ]
  },
  {
   "cell_type": "markdown",
   "metadata": {},
   "source": [
    "As you can see we’ve got the same result with a different function. It’s up to the reader (you) to obtain the mode(s) for the *Body weight* variable."
   ]
  },
  {
   "cell_type": "markdown",
   "metadata": {},
   "source": [
    "### 3.\tCalculate range, standard deviation, variance, standard error of mean, standard error of median\n",
    "To get *range* one has to subtract the minimum value (min) of a variable from its maximum value (max)."
   ]
  },
  {
   "cell_type": "code",
   "execution_count": 9,
   "metadata": {},
   "outputs": [
    {
     "data": {
      "text/html": [
       "5"
      ],
      "text/latex": [
       "5"
      ],
      "text/markdown": [
       "5"
      ],
      "text/plain": [
       "[1] 5"
      ]
     },
     "metadata": {},
     "output_type": "display_data"
    }
   ],
   "source": [
    "max(DF$Glucose.level) - min(DF$Glucose.level)"
   ]
  },
  {
   "cell_type": "markdown",
   "metadata": {},
   "source": [
    "Alternatively *range* can be obtained via the `Range` function from the `DescTools` library."
   ]
  },
  {
   "cell_type": "code",
   "execution_count": 10,
   "metadata": {},
   "outputs": [
    {
     "data": {
      "text/html": [
       "5"
      ],
      "text/latex": [
       "5"
      ],
      "text/markdown": [
       "5"
      ],
      "text/plain": [
       "[1] 5\n",
       "attr(,\"bounds\")\n",
       "[1] 2 7"
      ]
     },
     "metadata": {},
     "output_type": "display_data"
    }
   ],
   "source": [
    "Range(DF$Glucose.level)"
   ]
  },
  {
   "cell_type": "markdown",
   "metadata": {},
   "source": [
    "*Standard deviation* is being calculated through the `sd` function"
   ]
  },
  {
   "cell_type": "code",
   "execution_count": 11,
   "metadata": {},
   "outputs": [
    {
     "data": {
      "text/html": [
       "1.67624061778005"
      ],
      "text/latex": [
       "1.67624061778005"
      ],
      "text/markdown": [
       "1.67624061778005"
      ],
      "text/plain": [
       "[1] 1.676241"
      ]
     },
     "metadata": {},
     "output_type": "display_data"
    }
   ],
   "source": [
    "sd(DF$Glucose.level)"
   ]
  },
  {
   "cell_type": "code",
   "execution_count": 12,
   "metadata": {},
   "outputs": [
    {
     "data": {
      "text/html": [
       "13.3138671305904"
      ],
      "text/latex": [
       "13.3138671305904"
      ],
      "text/markdown": [
       "13.3138671305904"
      ],
      "text/plain": [
       "[1] 13.31387"
      ]
     },
     "metadata": {},
     "output_type": "display_data"
    }
   ],
   "source": [
    "sd(DF$Body.weight)"
   ]
  },
  {
   "cell_type": "markdown",
   "metadata": {},
   "source": [
    "*Variance* can be calculated through the `var` function"
   ]
  },
  {
   "cell_type": "code",
   "execution_count": 13,
   "metadata": {},
   "outputs": [
    {
     "data": {
      "text/html": [
       "2.80978260869565"
      ],
      "text/latex": [
       "2.80978260869565"
      ],
      "text/markdown": [
       "2.80978260869565"
      ],
      "text/plain": [
       "[1] 2.809783"
      ]
     },
     "metadata": {},
     "output_type": "display_data"
    }
   ],
   "source": [
    "var(DF$Glucose.level)"
   ]
  },
  {
   "cell_type": "code",
   "execution_count": 14,
   "metadata": {},
   "outputs": [
    {
     "data": {
      "text/html": [
       "177.259057971014"
      ],
      "text/latex": [
       "177.259057971014"
      ],
      "text/markdown": [
       "177.259057971014"
      ],
      "text/plain": [
       "[1] 177.2591"
      ]
     },
     "metadata": {},
     "output_type": "display_data"
    }
   ],
   "source": [
    "var(DF$Body.weight)"
   ]
  },
  {
   "cell_type": "markdown",
   "metadata": {},
   "source": [
    "*Standard error of mean* can be obtained in two ways: \n",
    "1.\tManually by combining in expression the standard deviation (sd), square root (sqrt) and sample size (length) calculation functions"
   ]
  },
  {
   "cell_type": "code",
   "execution_count": 15,
   "metadata": {},
   "outputs": [
    {
     "data": {
      "text/html": [
       "0.342161183307398"
      ],
      "text/latex": [
       "0.342161183307398"
      ],
      "text/markdown": [
       "0.342161183307398"
      ],
      "text/plain": [
       "[1] 0.3421612"
      ]
     },
     "metadata": {},
     "output_type": "display_data"
    }
   ],
   "source": [
    "sd(DF$Glucose.level) / sqrt(length(DF$Glucose.level))"
   ]
  },
  {
   "cell_type": "markdown",
   "metadata": {},
   "source": [
    "2.\tUsing `MeanSE` function from the `DescTools` library"
   ]
  },
  {
   "cell_type": "code",
   "execution_count": 16,
   "metadata": {},
   "outputs": [
    {
     "data": {
      "text/html": [
       "0.342161183307398"
      ],
      "text/latex": [
       "0.342161183307398"
      ],
      "text/markdown": [
       "0.342161183307398"
      ],
      "text/plain": [
       "[1] 0.3421612"
      ]
     },
     "metadata": {},
     "output_type": "display_data"
    }
   ],
   "source": [
    "DescTools::MeanSE(DF$Glucose.level)"
   ]
  },
  {
   "cell_type": "markdown",
   "metadata": {},
   "source": [
    "The way the `MeanSE` function is being called in this example is just another way of telling `R` that you wish to use specific function from the specific library. But it’s not mandatory and you could safely use the short form: `MeanSE(DF$Glucose.level)` and it would still provide you with the correct result."
   ]
  },
  {
   "cell_type": "code",
   "execution_count": 17,
   "metadata": {},
   "outputs": [
    {
     "data": {
      "text/html": [
       "0.342161183307398"
      ],
      "text/latex": [
       "0.342161183307398"
      ],
      "text/markdown": [
       "0.342161183307398"
      ],
      "text/plain": [
       "[1] 0.3421612"
      ]
     },
     "metadata": {},
     "output_type": "display_data"
    }
   ],
   "source": [
    "MeanSE(DF$Glucose.level)"
   ]
  },
  {
   "cell_type": "markdown",
   "metadata": {},
   "source": [
    "### 4.\tCalculate confidence intervals of mean, confidence intervals of median\n",
    "*Confidence interval of mean* can be calculated in two ways:\n",
    "1.\tFrom one sample t-test"
   ]
  },
  {
   "cell_type": "code",
   "execution_count": 18,
   "metadata": {},
   "outputs": [
    {
     "data": {
      "text/html": [
       "<ol class=list-inline>\n",
       "\t<li>80.6697136364592</li>\n",
       "\t<li>91.9136196968741</li>\n",
       "</ol>\n"
      ],
      "text/latex": [
       "\\begin{enumerate*}\n",
       "\\item 80.6697136364592\n",
       "\\item 91.9136196968741\n",
       "\\end{enumerate*}\n"
      ],
      "text/markdown": [
       "1. 80.6697136364592\n",
       "2. 91.9136196968741\n",
       "\n",
       "\n"
      ],
      "text/plain": [
       "[1] 80.66971 91.91362\n",
       "attr(,\"conf.level\")\n",
       "[1] 0.95"
      ]
     },
     "metadata": {},
     "output_type": "display_data"
    }
   ],
   "source": [
    "t.test(DF$Body.weight)$conf.int"
   ]
  },
  {
   "cell_type": "markdown",
   "metadata": {},
   "source": [
    "Lower (or left) bound of confidence interval of mean is the first value (80.67 in this example). Upper (or right) bound of confidence interval of mean is the second value (91.91 in this example). The confidence level is 95% (0.95)."
   ]
  },
  {
   "cell_type": "markdown",
   "metadata": {},
   "source": [
    "2.\tFrom `MeanCI` function of `DescTools` library"
   ]
  },
  {
   "cell_type": "code",
   "execution_count": 19,
   "metadata": {},
   "outputs": [
    {
     "data": {
      "text/html": [
       "<dl class=dl-horizontal>\n",
       "\t<dt>mean</dt>\n",
       "\t\t<dd>86.2916666666667</dd>\n",
       "\t<dt>lwr.ci</dt>\n",
       "\t\t<dd>80.6697136364592</dd>\n",
       "\t<dt>upr.ci</dt>\n",
       "\t\t<dd>91.9136196968741</dd>\n",
       "</dl>\n"
      ],
      "text/latex": [
       "\\begin{description*}\n",
       "\\item[mean] 86.2916666666667\n",
       "\\item[lwr.ci] 80.6697136364592\n",
       "\\item[upr.ci] 91.9136196968741\n",
       "\\end{description*}\n"
      ],
      "text/markdown": [
       "mean\n",
       ":   86.2916666666667lwr.ci\n",
       ":   80.6697136364592upr.ci\n",
       ":   91.9136196968741\n",
       "\n"
      ],
      "text/plain": [
       "    mean   lwr.ci   upr.ci \n",
       "86.29167 80.66971 91.91362 "
      ]
     },
     "metadata": {},
     "output_type": "display_data"
    }
   ],
   "source": [
    "MeanCI(DF$Body.weight)"
   ]
  },
  {
   "cell_type": "markdown",
   "metadata": {},
   "source": [
    "`lwr.ci` is a lower (or left) bound of the *confidence interval of mean*.\n",
    "\n",
    "`upr.ci` is an upper (or right) bound of the *confidence interval of mean*. \n",
    "\n",
    "The default *confidence level* for the `MeanCI` function is 0.95."
   ]
  },
  {
   "cell_type": "markdown",
   "metadata": {},
   "source": [
    "*Confidence interval of median* can be obtained by `MedianCI` function from `DescTools` library"
   ]
  },
  {
   "cell_type": "code",
   "execution_count": 20,
   "metadata": {},
   "outputs": [
    {
     "data": {
      "text/html": [
       "<dl class=dl-horizontal>\n",
       "\t<dt>median</dt>\n",
       "\t\t<dd>3.5</dd>\n",
       "\t<dt>lwr.ci</dt>\n",
       "\t\t<dd>3</dd>\n",
       "\t<dt>upr.ci</dt>\n",
       "\t\t<dd>5</dd>\n",
       "</dl>\n"
      ],
      "text/latex": [
       "\\begin{description*}\n",
       "\\item[median] 3.5\n",
       "\\item[lwr.ci] 3\n",
       "\\item[upr.ci] 5\n",
       "\\end{description*}\n"
      ],
      "text/markdown": [
       "median\n",
       ":   3.5lwr.ci\n",
       ":   3upr.ci\n",
       ":   5\n",
       "\n"
      ],
      "text/plain": [
       "median lwr.ci upr.ci \n",
       "   3.5    3.0    5.0 \n",
       "attr(,\"conf.level\")\n",
       "[1] 0.9773442"
      ]
     },
     "metadata": {},
     "output_type": "display_data"
    }
   ],
   "source": [
    "MedianCI(DF$Glucose.level)"
   ]
  },
  {
   "cell_type": "markdown",
   "metadata": {},
   "source": [
    "`lwr.ci` is a lower (or left) bound of the *confidence interval of median*.\n",
    "\n",
    "`upr.ci` is an upper (or right) bound of the confidence interval of median.\n",
    "\n",
    "The default *confidence level* for the `MedianCI` function is 0.95."
   ]
  },
  {
   "cell_type": "markdown",
   "metadata": {},
   "source": [
    "### 5.\tCheck if the samples follow normal distribution\n",
    "To check if sample follows the normal distribution one has to apply the Shapiro-Wilk test. It can be done via the `shapiro.test` function. If the sample follows normal distribution, then the Shapiro-Wilk test will give *p-value* greater than the *significance level* of 0.05. If the opposite is true, then the sample doesn’t follow the normal distribution."
   ]
  },
  {
   "cell_type": "code",
   "execution_count": 21,
   "metadata": {},
   "outputs": [
    {
     "data": {
      "text/plain": [
       "\n",
       "\tShapiro-Wilk normality test\n",
       "\n",
       "data:  DF$Glucose.level\n",
       "W = 0.87708, p-value = 0.007263\n"
      ]
     },
     "metadata": {},
     "output_type": "display_data"
    }
   ],
   "source": [
    "shapiro.test(DF$Glucose.level)"
   ]
  },
  {
   "cell_type": "markdown",
   "metadata": {},
   "source": [
    "As we can see *Glucose level* variable doesn’t follow normal distribution because it’s *p-value* is lower than the *significance level* of 0.05. We can confirm this by plotting the histogram of the *Glucose level* variable. To do so we have to use `hist` function. Result of the function is presented on the figure below.\n",
    "\n",
    "`hist(DF$Glucose.lvl, main = \"Glucose level\", xlab = \"Value\")`\n",
    "\n",
    "`main = “Glucose level”` – title of the histogram plot\n",
    "\n",
    "`xlab = “Value”` – title of the horizontal axis "
   ]
  },
  {
   "cell_type": "code",
   "execution_count": 22,
   "metadata": {},
   "outputs": [
    {
     "data": {
      "image/png": "[encoded data removed]",
      "text/plain": [
       "Plot with title \"Glucose level\""
      ]
     },
     "metadata": {},
     "output_type": "display_data"
    }
   ],
   "source": [
    "hist(DF$Glucose.level, main = \"Glucose level\", xlab = \"Value\")"
   ]
  },
  {
   "cell_type": "markdown",
   "metadata": {},
   "source": [
    "For the *Body weight* we have the opposite case."
   ]
  },
  {
   "cell_type": "code",
   "execution_count": 23,
   "metadata": {},
   "outputs": [
    {
     "data": {
      "text/plain": [
       "\n",
       "\tShapiro-Wilk normality test\n",
       "\n",
       "data:  DF$Body.weight\n",
       "W = 0.95007, p-value = 0.2719\n"
      ]
     },
     "metadata": {},
     "output_type": "display_data"
    }
   ],
   "source": [
    "shapiro.test(DF$Body.weight)"
   ]
  },
  {
   "cell_type": "markdown",
   "metadata": {},
   "source": [
    "As one can see the *Body weight’s* *p-value* exceeds the *significance level* of 0.05 which means *Body weight* variable follows the normal distribution. The histogram of the *Body weight* variable is plotted below."
   ]
  },
  {
   "cell_type": "code",
   "execution_count": 24,
   "metadata": {},
   "outputs": [
    {
     "data": {
      "image/png": "[encoded data removed]",
      "text/plain": [
       "Plot with title \"Body weight\""
      ]
     },
     "metadata": {},
     "output_type": "display_data"
    }
   ],
   "source": [
    "hist(DF$Body.weight, main = \"Body weight\", xlab = \"Value\")"
   ]
  },
  {
   "cell_type": "markdown",
   "metadata": {},
   "source": [
    "### 6.\tGathering the results\n",
    "\n",
    "We should garner the results in a table. To do so we could have stored the results in a separate variables (the preferred way) or we can produce an expression which combines all of the required functions.\n",
    "\n",
    "R variable `gl_summary` will hold the calculation results for the *Glucose level*:"
   ]
  },
  {
   "cell_type": "code",
   "execution_count": 25,
   "metadata": {},
   "outputs": [],
   "source": [
    "gl_summary <- list(\n",
    "\tName = \"Glucose level\",\n",
    "\tSize = length(DF$Glucose.level), \n",
    "\tMin = min(DF$Glucose.level), Max = max(DF$Glucose.level),\n",
    "\tMean = mean(DF$Glucose.level), \n",
    "\tMedian = median(DF$Glucose.level), \n",
    "\tSD = sd(DF$Glucose.level), Var = var(DF$Glucose.level),\n",
    "\tSEM = DescTools::MeanSE(DF$Glucose.level), \n",
    "\tlwr.CI = t.test(DF$Glucose.level)$conf.int[1],\n",
    "\tupr.CI = t.test(DF$Glucose.level)$conf.int[2]\n",
    ")"
   ]
  },
  {
   "cell_type": "markdown",
   "metadata": {},
   "source": [
    "Variable *gl_summary* is a list of pairs `tag = value`. *Tag* serves only as a name for the *value* and doesn’t affect calculations, but instead one can address the specific value by its tag.\n",
    "\n",
    "R variable `bw_summary` will hold the calculation results for the *Body weight*:"
   ]
  },
  {
   "cell_type": "code",
   "execution_count": 26,
   "metadata": {},
   "outputs": [],
   "source": [
    "bw_summary <- list(\n",
    "\tName = \"Body weight\", \n",
    "\tSize = length(DF$Body.weight), \n",
    "\tMin = min(DF$Body.weight), \n",
    "\tMax = max(DF$Body.weight), \n",
    "\tMean = mean(DF$Body.weight), \n",
    "\tMedian = median(DF$Body.weight), \n",
    "\tSD = sd(DF$Body.weight), Var = var(DF$Body.weight),\n",
    "\tSEM = DescTools::MeanSE(DF$Body.weight), \n",
    "\tlwr.CI = t.test(DF$Body.weight)$conf.int[1],\n",
    "\tupr.CI = t.test(DF$Body.weight)$conf.int[2]\n",
    ")"
   ]
  },
  {
   "cell_type": "markdown",
   "metadata": {},
   "source": [
    "Final data frame to hold the calculation results is done through the merge of the above variables. During the merge process both variable can be treated either as rows or columns. To merge the variables as rows one has to use `rbind` function. To merge the variables as columns (preferred method) one has to use `cbind` function."
   ]
  },
  {
   "cell_type": "code",
   "execution_count": 27,
   "metadata": {},
   "outputs": [
    {
     "data": {
      "text/html": [
       "<table>\n",
       "<thead><tr><th></th><th scope=col>Name</th><th scope=col>Size</th><th scope=col>Min</th><th scope=col>Max</th><th scope=col>Mean</th><th scope=col>Median</th><th scope=col>SD</th><th scope=col>Var</th><th scope=col>SEM</th><th scope=col>lwr.CI</th><th scope=col>upr.CI</th></tr></thead>\n",
       "<tbody>\n",
       "\t<tr><th scope=row>gl_summary</th><td>Glucose level</td><td>24           </td><td>2            </td><td>7            </td><td>3.875        </td><td>3.5          </td><td>1.676241     </td><td>2.809783     </td><td>0.3421612    </td><td>3.167186     </td><td>4.582814     </td></tr>\n",
       "\t<tr><th scope=row>bw_summary</th><td>Body weight</td><td>24         </td><td>68         </td><td>120        </td><td>86.29167   </td><td>83.5       </td><td>13.31387   </td><td>177.2591   </td><td>2.717682   </td><td>80.66971   </td><td>91.91362   </td></tr>\n",
       "</tbody>\n",
       "</table>\n"
      ],
      "text/latex": [
       "\\begin{tabular}{r|lllllllllll}\n",
       "  & Name & Size & Min & Max & Mean & Median & SD & Var & SEM & lwr.CI & upr.CI\\\\\n",
       "\\hline\n",
       "\tgl\\_summary & Glucose level & 24            & 2             & 7             & 3.875         & 3.5           & 1.676241      & 2.809783      & 0.3421612     & 3.167186      & 4.582814     \\\\\n",
       "\tbw\\_summary & Body weight & 24          & 68          & 120         & 86.29167    & 83.5        & 13.31387    & 177.2591    & 2.717682    & 80.66971    & 91.91362   \\\\\n",
       "\\end{tabular}\n"
      ],
      "text/markdown": [
       "\n",
       "| <!--/--> | Name | Size | Min | Max | Mean | Median | SD | Var | SEM | lwr.CI | upr.CI |\n",
       "|---|---|---|---|---|---|---|---|---|---|---|---|\n",
       "| gl_summary | Glucose level | 24            | 2             | 7             | 3.875         | 3.5           | 1.676241      | 2.809783      | 0.3421612     | 3.167186      | 4.582814      |\n",
       "| bw_summary | Body weight | 24          | 68          | 120         | 86.29167    | 83.5        | 13.31387    | 177.2591    | 2.717682    | 80.66971    | 91.91362    |\n",
       "\n"
      ],
      "text/plain": [
       "           Name          Size Min Max Mean     Median SD       Var     \n",
       "gl_summary Glucose level 24   2   7   3.875    3.5    1.676241 2.809783\n",
       "bw_summary Body weight   24   68  120 86.29167 83.5   13.31387 177.2591\n",
       "           SEM       lwr.CI   upr.CI  \n",
       "gl_summary 0.3421612 3.167186 4.582814\n",
       "bw_summary 2.717682  80.66971 91.91362"
      ]
     },
     "metadata": {},
     "output_type": "display_data"
    }
   ],
   "source": [
    "rbind(gl_summary,bw_summary)"
   ]
  },
  {
   "cell_type": "code",
   "execution_count": 28,
   "metadata": {},
   "outputs": [
    {
     "data": {
      "text/html": [
       "<table>\n",
       "<thead><tr><th></th><th scope=col>gl_summary</th><th scope=col>bw_summary</th></tr></thead>\n",
       "<tbody>\n",
       "\t<tr><th scope=row>Name</th><td>Glucose level</td><td>Body weight  </td></tr>\n",
       "\t<tr><th scope=row>Size</th><td>24</td><td>24</td></tr>\n",
       "\t<tr><th scope=row>Min</th><td>2 </td><td>68</td></tr>\n",
       "\t<tr><th scope=row>Max</th><td>7  </td><td>120</td></tr>\n",
       "\t<tr><th scope=row>Mean</th><td>3.875   </td><td>86.29167</td></tr>\n",
       "\t<tr><th scope=row>Median</th><td>3.5 </td><td>83.5</td></tr>\n",
       "\t<tr><th scope=row>SD</th><td>1.676241</td><td>13.31387</td></tr>\n",
       "\t<tr><th scope=row>Var</th><td>2.809783</td><td>177.2591</td></tr>\n",
       "\t<tr><th scope=row>SEM</th><td>0.3421612</td><td>2.717682 </td></tr>\n",
       "\t<tr><th scope=row>lwr.CI</th><td>3.167186</td><td>80.66971</td></tr>\n",
       "\t<tr><th scope=row>upr.CI</th><td>4.582814</td><td>91.91362</td></tr>\n",
       "</tbody>\n",
       "</table>\n"
      ],
      "text/latex": [
       "\\begin{tabular}{r|ll}\n",
       "  & gl\\_summary & bw\\_summary\\\\\n",
       "\\hline\n",
       "\tName & Glucose level & Body weight  \\\\\n",
       "\tSize & 24 & 24\\\\\n",
       "\tMin & 2  & 68\\\\\n",
       "\tMax & 7   & 120\\\\\n",
       "\tMean & 3.875    & 86.29167\\\\\n",
       "\tMedian & 3.5  & 83.5\\\\\n",
       "\tSD & 1.676241 & 13.31387\\\\\n",
       "\tVar & 2.809783 & 177.2591\\\\\n",
       "\tSEM & 0.3421612 & 2.717682 \\\\\n",
       "\tlwr.CI & 3.167186 & 80.66971\\\\\n",
       "\tupr.CI & 4.582814 & 91.91362\\\\\n",
       "\\end{tabular}\n"
      ],
      "text/markdown": [
       "\n",
       "| <!--/--> | gl_summary | bw_summary |\n",
       "|---|---|---|\n",
       "| Name | Glucose level | Body weight   |\n",
       "| Size | 24 | 24 |\n",
       "| Min | 2  | 68 |\n",
       "| Max | 7   | 120 |\n",
       "| Mean | 3.875    | 86.29167 |\n",
       "| Median | 3.5  | 83.5 |\n",
       "| SD | 1.676241 | 13.31387 |\n",
       "| Var | 2.809783 | 177.2591 |\n",
       "| SEM | 0.3421612 | 2.717682  |\n",
       "| lwr.CI | 3.167186 | 80.66971 |\n",
       "| upr.CI | 4.582814 | 91.91362 |\n",
       "\n"
      ],
      "text/plain": [
       "       gl_summary    bw_summary \n",
       "Name   Glucose level Body weight\n",
       "Size   24            24         \n",
       "Min    2             68         \n",
       "Max    7             120        \n",
       "Mean   3.875         86.29167   \n",
       "Median 3.5           83.5       \n",
       "SD     1.676241      13.31387   \n",
       "Var    2.809783      177.2591   \n",
       "SEM    0.3421612     2.717682   \n",
       "lwr.CI 3.167186      80.66971   \n",
       "upr.CI 4.582814      91.91362   "
      ]
     },
     "metadata": {},
     "output_type": "display_data"
    }
   ],
   "source": [
    "cbind(gl_summary,bw_summary)"
   ]
  },
  {
   "cell_type": "markdown",
   "metadata": {},
   "source": [
    "Store your calculations as a data frame"
   ]
  },
  {
   "cell_type": "code",
   "execution_count": 29,
   "metadata": {},
   "outputs": [],
   "source": [
    "DF_Summary = as.data.frame(cbind(gl_summary, bw_summary))"
   ]
  },
  {
   "cell_type": "markdown",
   "metadata": {},
   "source": [
    "Now you can access the specific value by addressing it through the `$` sign. For example, to get the upper CI for the Body weight one has to execute `DF_Summary$bw_summary$upr.CI`"
   ]
  },
  {
   "cell_type": "code",
   "execution_count": 30,
   "metadata": {},
   "outputs": [
    {
     "data": {
      "text/html": [
       "91.9136196968741"
      ],
      "text/latex": [
       "91.9136196968741"
      ],
      "text/markdown": [
       "91.9136196968741"
      ],
      "text/plain": [
       "[1] 91.91362"
      ]
     },
     "metadata": {},
     "output_type": "display_data"
    }
   ],
   "source": [
    "DF_Summary$bw_summary$upr.CI"
   ]
  },
  {
   "cell_type": "markdown",
   "metadata": {},
   "source": [
    "### Conclusion:\n",
    "*Glucose level* lies in range of values of [2; 7] with a 95% confidence interval of mean [3.16; 4.58] and doesn’t follow normal distribution. Median value of *Glucose level* is 3.875. Standard error of \n",
    "mean is almost 10 times lower of the mean value which evidences about sample being representative to the population. *Body weight* follows normal distribution and its values belong to the range of [68; 120] with the 95% confidence interval of mean [80.67; 91.91]. Standard error of mean for the *Body weight* variable is approximately 40 times lower than the mean value which points to the fact of a given sample being representative to its population."
   ]
  }
 ],
 "metadata": {
  "kernelspec": {
   "display_name": "R",
   "language": "R",
   "name": "ir"
  },
  "language_info": {
   "codemirror_mode": "r",
   "file_extension": ".r",
   "mimetype": "text/x-r-source",
   "name": "R",
   "pygments_lexer": "r",
   "version": "3.6.1"
  }
 },
 "nbformat": 4,
 "nbformat_minor": 4
}
